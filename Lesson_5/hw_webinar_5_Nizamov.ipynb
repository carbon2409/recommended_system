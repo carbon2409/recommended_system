{
 "cells": [
  {
   "cell_type": "markdown",
   "metadata": {},
   "source": [
    "Ответьте на вопросы:\n",
    "- В чем принципиальное отличие гибридных рекомендательных систем от коллаборативной филтьтрации?\n",
    "- Приведите 2-3 примера задач, в которых необходимо использовать гибридные системы"
   ]
  },
  {
   "cell_type": "markdown",
   "metadata": {},
   "source": [
    "1. Гибридная система может включать в себя коллаборативную фильтрацию и содержать еще какую-либо фильтрацию например content based. Основной проблемой коллаборативных систем является холодный старт. Гибридная же система способна решить данную проблему, т.к. содержит дополнительные алгоритмы фильтрации."
   ]
  },
  {
   "cell_type": "markdown",
   "metadata": {},
   "source": [
    "2. Задачи с холодным стартом, т.е. без предыстории его действий. Например, что рекомендовать новому пользователю без истории покупок. Или, например появилось очень много совершенно новой продукции без истории продаж и ее нужно как то рекомендовать."
   ]
  },
  {
   "cell_type": "code",
   "execution_count": null,
   "metadata": {},
   "outputs": [],
   "source": []
  }
 ],
 "metadata": {
  "kernelspec": {
   "display_name": "Python 3",
   "language": "python",
   "name": "python3"
  },
  "language_info": {
   "codemirror_mode": {
    "name": "ipython",
    "version": 3
   },
   "file_extension": ".py",
   "mimetype": "text/x-python",
   "name": "python",
   "nbconvert_exporter": "python",
   "pygments_lexer": "ipython3",
   "version": "3.7.3"
  }
 },
 "nbformat": 4,
 "nbformat_minor": 2
}
